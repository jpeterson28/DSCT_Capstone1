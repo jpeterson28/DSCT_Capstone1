{
 "cells": [
  {
   "cell_type": "code",
   "execution_count": 13,
   "metadata": {},
   "outputs": [
    {
     "name": "stdout",
     "output_type": "stream",
     "text": [
      "        INC NUMBER        OCCURRED ON        OCCURRED TO   UCR CRIME CATEGORY  \\\n",
      "0  201600000052855  11/01/2015  00:00  01/09/2016  00:00  MOTOR VEHICLE THEFT   \n",
      "1  201600000594484  11/01/2015  00:00                NaN                 RAPE   \n",
      "2  201500002102327  11/01/2015  00:00  11/01/2015  09:00        LARCENY-THEFT   \n",
      "3  201500002101405  11/01/2015  00:00  11/01/2015  05:00  MOTOR VEHICLE THEFT   \n",
      "4  201500002102668  11/01/2015  00:00  11/01/2015  11:50  MOTOR VEHICLE THEFT   \n",
      "\n",
      "             100 BLOCK ADDR      ZIP         PREMISE TYPE  \n",
      "0  N 43RD AVE & W CACTUS RD  85029.0  SINGLE FAMILY HOUSE  \n",
      "1         13XX E ALMERIA RD  85006.0  SINGLE FAMILY HOUSE  \n",
      "2            51XX N 15TH ST  85014.0            APARTMENT  \n",
      "3       102XX W MEDLOCK AVE  85307.0  SINGLE FAMILY HOUSE  \n",
      "4            69XX W WOOD ST  85043.0  SINGLE FAMILY HOUSE  \n",
      "<class 'pandas.core.frame.DataFrame'>\n",
      "RangeIndex: 148468 entries, 0 to 148467\n",
      "Data columns (total 7 columns):\n",
      "INC NUMBER            148468 non-null object\n",
      "OCCURRED ON           148132 non-null object\n",
      "OCCURRED TO           104749 non-null object\n",
      "UCR CRIME CATEGORY    148468 non-null object\n",
      "100 BLOCK ADDR        148468 non-null object\n",
      "ZIP                   148465 non-null float64\n",
      "PREMISE TYPE          147663 non-null object\n",
      "dtypes: float64(1), object(6)\n",
      "memory usage: 7.9+ MB\n",
      "None\n",
      "INC NUMBER            148468\n",
      "OCCURRED ON           148132\n",
      "OCCURRED TO           104749\n",
      "UCR CRIME CATEGORY    148468\n",
      "100 BLOCK ADDR        148468\n",
      "ZIP                   148465\n",
      "PREMISE TYPE          147663\n",
      "dtype: int64\n"
     ]
    }
   ],
   "source": [
    "# Import Packages\n",
    "import numpy as np\n",
    "import pandas as pd\n",
    "import matplotlib.pyplot as plt\n",
    "\n",
    "# Data file downloaded 02-27-18\n",
    "\n",
    "# Assign filename\n",
    "data_022718 = 'crime-datacrime-datacrimestat.csv'\n",
    "\n",
    "# Read file in DataFrame\n",
    "crime = pd.read_csv(data_022718, sep=',', low_memory=False)\n",
    "\n",
    "# Explore Data\n",
    "print(crime.head())\n",
    "print(crime.info())\n",
    "\n",
    "\n"
   ]
  },
  {
   "cell_type": "code",
   "execution_count": null,
   "metadata": {},
   "outputs": [],
   "source": []
  }
 ],
 "metadata": {
  "kernelspec": {
   "display_name": "Python 3",
   "language": "python",
   "name": "python3"
  },
  "language_info": {
   "codemirror_mode": {
    "name": "ipython",
    "version": 3
   },
   "file_extension": ".py",
   "mimetype": "text/x-python",
   "name": "python",
   "nbconvert_exporter": "python",
   "pygments_lexer": "ipython3",
   "version": "3.6.4"
  }
 },
 "nbformat": 4,
 "nbformat_minor": 2
}
