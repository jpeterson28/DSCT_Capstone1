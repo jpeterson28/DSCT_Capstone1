{
 "cells": [
  {
   "cell_type": "code",
   "execution_count": 129,
   "metadata": {},
   "outputs": [
    {
     "name": "stdout",
     "output_type": "stream",
     "text": [
      "        INC NUMBER        OCCURRED ON        OCCURRED TO   UCR CRIME CATEGORY  \\\n",
      "0  201600000052855  11/01/2015  00:00  01/09/2016  00:00  MOTOR VEHICLE THEFT   \n",
      "1  201600000594484  11/01/2015  00:00                NaN                 RAPE   \n",
      "2  201500002102327  11/01/2015  00:00  11/01/2015  09:00        LARCENY-THEFT   \n",
      "3  201500002101405  11/01/2015  00:00  11/01/2015  05:00  MOTOR VEHICLE THEFT   \n",
      "4  201500002102668  11/01/2015  00:00  11/01/2015  11:50  MOTOR VEHICLE THEFT   \n",
      "\n",
      "             100 BLOCK ADDR    ZIP         PREMISE TYPE  \n",
      "0  N 43RD AVE & W CACTUS RD  85029  SINGLE FAMILY HOUSE  \n",
      "1         13XX E ALMERIA RD  85006  SINGLE FAMILY HOUSE  \n",
      "2            51XX N 15TH ST  85014            APARTMENT  \n",
      "3       102XX W MEDLOCK AVE  85307  SINGLE FAMILY HOUSE  \n",
      "4            69XX W WOOD ST  85043  SINGLE FAMILY HOUSE  \n",
      "<class 'pandas.core.frame.DataFrame'>\n",
      "RangeIndex: 148468 entries, 0 to 148467\n",
      "Data columns (total 7 columns):\n",
      "INC NUMBER            148468 non-null object\n",
      "OCCURRED ON           148132 non-null object\n",
      "OCCURRED TO           104749 non-null object\n",
      "UCR CRIME CATEGORY    148468 non-null object\n",
      "100 BLOCK ADDR        148468 non-null object\n",
      "ZIP                   148465 non-null object\n",
      "PREMISE TYPE          147663 non-null object\n",
      "dtypes: object(7)\n",
      "memory usage: 7.9+ MB\n",
      "None\n"
     ]
    }
   ],
   "source": [
    "# Import Packages\n",
    "import numpy as np\n",
    "import pandas as pd\n",
    "import matplotlib.pyplot as plt\n",
    "\n",
    "\n",
    "# Data file downloaded 02-27-18\n",
    "# This will be the file used, data is from 11/1/15 to 2/20/18\n",
    "\n",
    "# Assign filename\n",
    "data_022718 = 'crime-datacrime-datacrimestat.csv'\n",
    "\n",
    "# Read file in DataFrame\n",
    "crime = pd.read_csv(data_022718, sep=',', low_memory=False, dtype={'ZIP': object})\n",
    "\n",
    "# Quick view of the data\n",
    "print(crime.head())\n",
    "print(crime.info())\n",
    "\n",
    "# Rename columns\n",
    "crime.columns = ['incident_num', 'date_occurred_on', 'date_occurred_to', 'crime_cat', '100_block_addr', 'zip', 'premise_type']\n"
   ]
  },
  {
   "cell_type": "code",
   "execution_count": 130,
   "metadata": {},
   "outputs": [
    {
     "name": "stdout",
     "output_type": "stream",
     "text": [
      "date_occurred_on      336\n",
      "date_occurred_to    43719\n",
      "zip                     3\n",
      "premise_type          805\n",
      "dtype: int64\n",
      "Empty DataFrame\n",
      "Columns: [incident_num, date_occurred_on, date_occurred_to, crime_cat, 100_block_addr, zip, premise_type]\n",
      "Index: []\n",
      "          incident_num   date_occurred_on   date_occurred_to      crime_cat  \\\n",
      "63037  201700001136425  11/04/2016  00:00  06/25/2017  00:00           RAPE   \n",
      "79708  201700000206086  02/04/2017  10:00  02/04/2017  10:14  LARCENY-THEFT   \n",
      "82276  201700000368400  02/18/2017  12:00  02/27/2017  15:23  LARCENY-THEFT   \n",
      "\n",
      "             100_block_addr  zip             premise_type  \n",
      "63037       451XX W RHEA RD  NaN                APARTMENT  \n",
      "79708     XX W BASELINE AVE  NaN          SPECIALTY STORE  \n",
      "82276  122XX N TABLE TOP RD  NaN  FENCED RESIDENTIAL YARD  \n",
      "         incident_num date_occurred_on   date_occurred_to      crime_cat  \\\n",
      "248   201500002110561              NaN  11/02/2015  14:40        ROBBERY   \n",
      "275   201500002132194              NaN  11/02/2015  17:00       BURGLARY   \n",
      "735   201500002266800              NaN  11/05/2015  14:30  LARCENY-THEFT   \n",
      "1044  201500002156362              NaN  11/07/2015  12:00  LARCENY-THEFT   \n",
      "1106  201500002146054              NaN  11/07/2015  19:00        ROBBERY   \n",
      "\n",
      "           100_block_addr    zip                         premise_type  \n",
      "248    41XX W BASELINE RD  85041  STREET / ROADWAY / ALLEY / SIDEWALK  \n",
      "275   32XX E ROOSEVELT ST  85008                            APARTMENT  \n",
      "735        47XX N 20TH ST  85016               GROCERY / SUPER MARKET  \n",
      "1044       34XX N 32ND ST  85016                          PARKING LOT  \n",
      "1106   15XX E MCDOWELL RD  85006  STREET / ROADWAY / ALLEY / SIDEWALK  \n",
      "       incident_num   date_occurred_on date_occurred_to            crime_cat  \\\n",
      "1   201600000594484  11/01/2015  00:00              NaN                 RAPE   \n",
      "6   201700001722914  11/01/2015  00:00              NaN        LARCENY-THEFT   \n",
      "20  201500002102481  11/01/2015  00:01              NaN        LARCENY-THEFT   \n",
      "24  201500002100158  11/01/2015  00:05              NaN  MOTOR VEHICLE THEFT   \n",
      "39  201500002101137  11/01/2015  04:14              NaN              ROBBERY   \n",
      "\n",
      "             100_block_addr    zip                         premise_type  \n",
      "1         13XX E ALMERIA RD  85006                  SINGLE FAMILY HOUSE  \n",
      "6           279XX N 23RD LN  85085                  SINGLE FAMILY HOUSE  \n",
      "20  88XX N BLACK CANYON FWY  85051                        HOTEL / MOTEL  \n",
      "24      28XX W CAMELBACK RD  85017           CONVENIENCE MARKET / STORE  \n",
      "39          138XX S 44TH ST  85044  STREET / ROADWAY / ALLEY / SIDEWALK  \n",
      "        incident_num   date_occurred_on   date_occurred_to  \\\n",
      "122  201600000016379  11/01/2015  17:00  01/03/2016  17:03   \n",
      "213  201500002108368  11/02/2015  09:02                NaN   \n",
      "313  201500002114933  11/02/2015  21:30  11/03/2015  07:20   \n",
      "323  201510000015756  11/03/2015  00:00  11/03/2015  03:17   \n",
      "339  201500002135426  11/03/2015  02:30  11/06/2015  08:30   \n",
      "\n",
      "               crime_cat            100_block_addr    zip premise_type  \n",
      "122             BURGLARY      40XX W SHANGRI LA RD  85029          NaN  \n",
      "213         DRUG OFFENSE            31XX N 20TH ST  85016          NaN  \n",
      "313  MOTOR VEHICLE THEFT       41XX W GLENDALE AVE  85019          NaN  \n",
      "323                ARSON            11XX W BELL RD  85023          NaN  \n",
      "339  MOTOR VEHICLE THEFT  104XX N BLACK CANYON FWY  85051          NaN  \n"
     ]
    }
   ],
   "source": [
    "# 4 variables have missing data: Occurred On, Occurred To, Zip, Premise Type\n",
    "print(crime[['date_occurred_on', 'date_occurred_to', 'zip', 'premise_type']].isna().sum())\n",
    "# 'date_occurred_to' field is blank because the victim knows the exact time the incident occurred and only the 'date_occurred_on' is populated\n",
    "\n",
    "# Sum number of incidents where occurred_on and occurred_to are NaN\n",
    "print(crime[(crime.date_occurred_on.isna()) & (crime.date_occurred_to.isna())])\n",
    "\n",
    "# \n",
    "print(crime.loc[crime['zip'].isna()])\n",
    "print(crime.loc[crime['date_occurred_on'].isna()].head())\n",
    "print(crime.loc[crime['date_occurred_to'].isna()].head())\n",
    "print(crime.loc[crime['premise_type'].isna()].head())"
   ]
  },
  {
   "cell_type": "code",
   "execution_count": 131,
   "metadata": {},
   "outputs": [
    {
     "name": "stdout",
     "output_type": "stream",
     "text": [
      "crime_cat        9\n",
      "zip             99\n",
      "premise_type    94\n",
      "dtype: int64\n",
      "['MOTOR VEHICLE THEFT' 'RAPE' 'LARCENY-THEFT' 'DRUG OFFENSE' 'BURGLARY'\n",
      " 'AGGRAVATED ASSAULT' 'MURDER AND NON-NEGLIGENT MANSLAUGHTER' 'ROBBERY'\n",
      " 'ARSON']\n",
      "['85029' '85006' '85014' '85307' '85043' '85017' '85085' '85019' '85031'\n",
      " '85027' '85024' '85339' '85028' '85018' '85015' '85008' '85254' '85051'\n",
      " '85023' '85009' '85044' '85035' '85041' '85003' '85048' '85353' '85016'\n",
      " '85022' '85033' '85040' '85007' '85050' '85004' '85054' '85032' '85013'\n",
      " '85034' '85042' '85021' '85012' '85053' '85308' '85086' '85020' '85037'\n",
      " '85331' '85306' '85083' '85310' '85045' '85087' '85301' '85253' '85304'\n",
      " '85255' '85251' '85258' '85225' '85363' '85282' '85268' '85213' '85395'\n",
      " '85202' '85201' '85381' '85281' '85210' '85323' '85224' '85345' '85302'\n",
      " '85266' '85382' '85392' '85303' '85260' '85286' '85296' '85203' '85248'\n",
      " '85295' '85290' '85326' '85234' '85283' '85215' '85226' '85257' '85305'\n",
      " nan '85383' '85204' '85337' '85396' '85338' '85335' '85233' '85212'\n",
      " '85355']\n"
     ]
    }
   ],
   "source": [
    "# Identify the unique values\n",
    "print(crime[['crime_cat', 'zip', 'premise_type']].nunique())\n",
    "print(crime.crime_cat.unique())\n",
    "print(crime.zip.unique())\n",
    "#print(crime.premise_type.unique())"
   ]
  },
  {
   "cell_type": "code",
   "execution_count": 132,
   "metadata": {},
   "outputs": [
    {
     "name": "stdout",
     "output_type": "stream",
     "text": [
      "Empty DataFrame\n",
      "Columns: [incident_num, date_occurred_on, date_occurred_to, crime_cat, 100_block_addr, zip, premise_type]\n",
      "Index: []\n",
      "incident_num                            201500002110561\n",
      "date_occurred_on                      11/02/2015  14:40\n",
      "date_occurred_to                      11/02/2015  14:40\n",
      "crime_cat                                       ROBBERY\n",
      "100_block_addr                       41XX W BASELINE RD\n",
      "zip                                               85041\n",
      "premise_type        STREET / ROADWAY / ALLEY / SIDEWALK\n",
      "Name: 248, dtype: object\n",
      "incident_num                   201500002100158\n",
      "date_occurred_on             11/01/2015  00:05\n",
      "date_occurred_to             11/01/2015  00:05\n",
      "crime_cat                  MOTOR VEHICLE THEFT\n",
      "100_block_addr             28XX W CAMELBACK RD\n",
      "zip                                      85017\n",
      "premise_type        CONVENIENCE MARKET / STORE\n",
      "Name: 24, dtype: object\n",
      "date_occurred_on    0\n",
      "date_occurred_to    0\n",
      "dtype: int64\n"
     ]
    }
   ],
   "source": [
    "# Cleaning the data set\n",
    "\n",
    "# Remove missing zip code rows and convert to str\n",
    "crime_clean = crime.drop(crime.index[[63037, 79708, 82276]])\n",
    "print(crime_clean.loc[crime_clean['zip'].isna()])\n",
    "\n",
    "# Fill in missing date values with date_occurred_on or date_occurred_to\n",
    "crime_clean.date_occurred_on.fillna(crime_clean.date_occurred_to, inplace=True)\n",
    "print(crime_clean.iloc[248])\n",
    "crime_clean.date_occurred_to.fillna(crime_clean.date_occurred_on, inplace=True)\n",
    "print(crime_clean.iloc[24])\n",
    "print(crime_clean[['date_occurred_on', 'date_occurred_to']].isna().sum())\n",
    "\n",
    "# Premise type NaN convert to Unknown\n",
    "crime_clean.premise_type = crime_clean.premise_type.fillna('UNKNOWN')\n"
   ]
  },
  {
   "cell_type": "code",
   "execution_count": 133,
   "metadata": {},
   "outputs": [
    {
     "name": "stdout",
     "output_type": "stream",
     "text": [
      "<class 'pandas.core.frame.DataFrame'>\n",
      "Int64Index: 148465 entries, 0 to 148467\n",
      "Data columns (total 21 columns):\n",
      "incident_num        148465 non-null object\n",
      "date_occurred_on    148465 non-null datetime64[ns]\n",
      "date_occurred_to    148465 non-null datetime64[ns]\n",
      "crime_cat           148465 non-null object\n",
      "100_block_addr      148465 non-null object\n",
      "zip                 148465 non-null object\n",
      "premise_type        148465 non-null object\n",
      "occ_on_month        148465 non-null int64\n",
      "occ_on_day          148465 non-null int64\n",
      "occ_on_year         148465 non-null int64\n",
      "occ_on_dayofweek    148465 non-null object\n",
      "occ_on_time         148465 non-null object\n",
      "occ_on_hr           148465 non-null int64\n",
      "occ_on_min          148465 non-null int64\n",
      "occ_to_month        148465 non-null int64\n",
      "occ_to_day          148465 non-null int64\n",
      "occ_to_year         148465 non-null int64\n",
      "occ_to_dayofweek    148465 non-null object\n",
      "occ_to_time         148465 non-null object\n",
      "occ_to_hr           148465 non-null int64\n",
      "occ_to_min          148465 non-null int64\n",
      "dtypes: datetime64[ns](2), int64(10), object(9)\n",
      "memory usage: 24.9+ MB\n"
     ]
    }
   ],
   "source": [
    "# Convert date columns to datetime\n",
    "crime_clean['date_occurred_on'] = pd.to_datetime(crime_clean['date_occurred_on'], format='%m/%d/%Y %H:%M')\n",
    "crime_clean['date_occurred_to'] = pd.to_datetime(crime_clean['date_occurred_to'], format='%m/%d/%Y %H:%M')\n",
    "#crime_clean.info()\n",
    "\n",
    "# Break down datetime columns into seperate columns, new columns listed below\n",
    "# date_occ_on ==> [occ_on_month, occ_on_day, occ_on_year, occ_on_hr, occ_on_min]\n",
    "crime_clean['occ_on_month'] = crime_clean['date_occurred_on'].dt.month\n",
    "crime_clean['occ_on_day'] = crime_clean['date_occurred_on'].dt.day\n",
    "crime_clean['occ_on_year'] = crime_clean['date_occurred_on'].dt.year\n",
    "crime_clean['occ_on_dayofweek'] = crime_clean['date_occurred_on'].dt.weekday_name\n",
    "crime_clean['occ_on_time'] = crime_clean['date_occurred_on'].dt.time\n",
    "crime_clean['occ_on_hr'] = crime_clean['date_occurred_on'].dt.hour\n",
    "crime_clean['occ_on_min'] = crime_clean['date_occurred_on'].dt.minute\n",
    "\n",
    "# date_occ_to ==> [occ_to_month, occ_to_day, occ_to_year, occ_to_hr, occ_to_min]\n",
    "crime_clean['occ_to_month'] = crime_clean['date_occurred_to'].dt.month\n",
    "crime_clean['occ_to_day'] = crime_clean['date_occurred_to'].dt.day\n",
    "crime_clean['occ_to_year'] = crime_clean['date_occurred_to'].dt.year\n",
    "crime_clean['occ_to_dayofweek'] = crime_clean['date_occurred_to'].dt.weekday_name\n",
    "crime_clean['occ_to_time'] = crime_clean['date_occurred_to'].dt.time\n",
    "crime_clean['occ_to_hr'] = crime_clean['date_occurred_to'].dt.hour\n",
    "crime_clean['occ_to_min'] = crime_clean['date_occurred_to'].dt.minute\n",
    "\n",
    "crime_clean.head()\n",
    "crime_clean.info()\n"
   ]
  },
  {
   "cell_type": "code",
   "execution_count": 134,
   "metadata": {},
   "outputs": [],
   "source": [
    "# Classify incident times into 4hr bucket groups\n",
    "# A: 0-3, B: 4-7, C: 8-11, D: 12-15, E: 16-19, F: 20-23\n",
    "occ_on_hr_grp = []\n",
    "for row in crime_clean.occ_on_hr:\n",
    "    if row in [0,1,2,3]:\n",
    "        occ_on_hr_grp.append('A')\n",
    "    elif row in [4,5,6,7]:\n",
    "        occ_on_hr_grp.append('B')\n",
    "    elif row in [8,9,10,11]:\n",
    "        occ_on_hr_grp.append('C')\n",
    "    elif row in [12,13,14,15]:\n",
    "        occ_on_hr_grp.append('D')\n",
    "    elif row in [16,17,18,19]:\n",
    "        occ_on_hr_grp.append('E')\n",
    "    else: \n",
    "        occ_on_hr_grp.append('F')\n",
    "    \n",
    "crime_clean['occ_on_hr_grp'] = occ_on_hr_grp\n"
   ]
  },
  {
   "cell_type": "code",
   "execution_count": 135,
   "metadata": {},
   "outputs": [],
   "source": [
    "# Classify incident months into seasons\n",
    "# Spring(3,4,5), Summer(6,7,8), Fall(9,10,11), Winter(12,1,2)\n",
    "occ_on_season = []\n",
    "for row in crime_clean.occ_on_month:\n",
    "    if row in [3,4,5]:\n",
    "        occ_on_season.append('Spring')\n",
    "    elif row in [6,7,8]:\n",
    "        occ_on_season.append('Summer')\n",
    "    elif row in [9,10,11]:\n",
    "        occ_on_season.append('Fall')\n",
    "    else:\n",
    "        occ_on_season.append('Winter')\n",
    "        \n",
    "crime_clean['occ_on_season'] = occ_on_season\n",
    "\n",
    "# crime_clean is the clean data set"
   ]
  },
  {
   "cell_type": "markdown",
   "metadata": {},
   "source": [
    "# Exploratory Data Analysis"
   ]
  },
  {
   "cell_type": "code",
   "execution_count": 136,
   "metadata": {
    "scrolled": true
   },
   "outputs": [
    {
     "data": {
      "image/png": "[encoded data removed]",
      "text/plain": [
       "<matplotlib.figure.Figure at 0x1120bfcf8>"
      ]
     },
     "metadata": {},
     "output_type": "display_data"
    }
   ],
   "source": [
    "# Number of incidents per month by year\n",
    "inc_mon_yr = crime_clean.groupby(['occ_on_year', 'occ_on_month'])['incident_num'].count()\n",
    "inc_mon_yr\n",
    "inc_mon_yr.plot(kind='bar', figsize=(10,5), rot=70)\n",
    "plt.title('# of Incidents by Year, Month')\n",
    "plt.show()"
   ]
  },
  {
   "cell_type": "code",
   "execution_count": 137,
   "metadata": {},
   "outputs": [
    {
     "data": {
      "image/png": "[encoded data removed]",
      "text/plain": [
       "<matplotlib.figure.Figure at 0x113009c50>"
      ]
     },
     "metadata": {},
     "output_type": "display_data"
    }
   ],
   "source": [
    "# Number of types of crime per month by year\n",
    "crime_month = crime_clean.groupby(['occ_on_year','occ_on_month','crime_cat'])['crime_cat'].count()\n",
    "crime_month.unstack().plot(kind='bar', figsize=(20,10), rot=70)\n",
    "plt.title('Count of Crime Type by Year, Month')\n",
    "plt.show()"
   ]
  },
  {
   "cell_type": "code",
   "execution_count": 138,
   "metadata": {},
   "outputs": [
    {
     "name": "stdout",
     "output_type": "stream",
     "text": [
      "occ_on_dayofweek\n",
      "Friday       22600\n",
      "Wednesday    21864\n",
      "Tuesday      21774\n",
      "Thursday     21615\n",
      "Monday       21217\n",
      "Saturday     20468\n",
      "Sunday       18927\n",
      "Name: incident_num, dtype: int64\n"
     ]
    },
    {
     "data": {
      "image/png": "[encoded data removed]",
      "text/plain": [
       "<matplotlib.figure.Figure at 0x11baa6898>"
      ]
     },
     "metadata": {},
     "output_type": "display_data"
    }
   ],
   "source": [
    "# Day of the week crimes take place\n",
    "crime_dayofweek = crime_clean.groupby('occ_on_dayofweek')['incident_num'].count().sort_values(ascending=False)\n",
    "print(crime_dayofweek)\n",
    "crime_dayofweek.plot(kind='bar', figsize=(7,5), rot=0)\n",
    "plt.title('# of Incidents by Day of Week')\n",
    "plt.show()"
   ]
  },
  {
   "cell_type": "code",
   "execution_count": 139,
   "metadata": {},
   "outputs": [
    {
     "name": "stdout",
     "output_type": "stream",
     "text": [
      "occ_on_hr_grp\n",
      "E    33717\n",
      "D    29432\n",
      "F    29193\n",
      "C    22367\n",
      "A    20489\n",
      "B    13267\n",
      "Name: incident_num, dtype: int64\n"
     ]
    },
    {
     "data": {
      "image/png": "[encoded data removed]",
      "text/plain": [
       "<matplotlib.figure.Figure at 0x112373ba8>"
      ]
     },
     "metadata": {},
     "output_type": "display_data"
    }
   ],
   "source": [
    "# Time of Day crimes occur\n",
    "# A: 0-3, B: 4-7, C: 8-11, D: 12-15, E: 16-19, F: 20-23\n",
    "crime_timeofday = crime_clean.groupby('occ_on_hr_grp')['incident_num'].count().sort_values(ascending=False)\n",
    "print(crime_timeofday[:10])\n",
    "crime_timeofday.plot(kind='bar', figsize=(7,5), rot=0,)\n",
    "plt.title('# of Incidents by Time of Day Group')\n",
    "plt.show()"
   ]
  },
  {
   "cell_type": "code",
   "execution_count": 140,
   "metadata": {},
   "outputs": [
    {
     "data": {
      "image/png": "[encoded data removed]",
      "text/plain": [
       "<matplotlib.figure.Figure at 0x1165162e8>"
      ]
     },
     "metadata": {},
     "output_type": "display_data"
    }
   ],
   "source": [
    "# Time of year most crimes occurred\n",
    "season_inc = crime_clean.groupby('occ_on_season')['occ_on_season'].count().sort_values(ascending=False)\n",
    "season_inc\n",
    "season_inc.plot(kind='bar', figsize=(7,5), rot=0)\n",
    "plt.title('# of Incidents by season')\n",
    "plt.show()"
   ]
  },
  {
   "cell_type": "code",
   "execution_count": 141,
   "metadata": {},
   "outputs": [
    {
     "name": "stdout",
     "output_type": "stream",
     "text": [
      "<class 'pandas.core.frame.DataFrame'>\n",
      "Int64Index: 148465 entries, 0 to 148467\n",
      "Data columns (total 23 columns):\n",
      "incident_num        148465 non-null object\n",
      "date_occurred_on    148465 non-null datetime64[ns]\n",
      "date_occurred_to    148465 non-null datetime64[ns]\n",
      "crime_cat           148465 non-null object\n",
      "100_block_addr      148465 non-null object\n",
      "zip                 148465 non-null object\n",
      "premise_type        148465 non-null object\n",
      "occ_on_month        148465 non-null int64\n",
      "occ_on_day          148465 non-null int64\n",
      "occ_on_year         148465 non-null int64\n",
      "occ_on_dayofweek    148465 non-null object\n",
      "occ_on_time         148465 non-null object\n",
      "occ_on_hr           148465 non-null int64\n",
      "occ_on_min          148465 non-null int64\n",
      "occ_to_month        148465 non-null int64\n",
      "occ_to_day          148465 non-null int64\n",
      "occ_to_year         148465 non-null int64\n",
      "occ_to_dayofweek    148465 non-null object\n",
      "occ_to_time         148465 non-null object\n",
      "occ_to_hr           148465 non-null int64\n",
      "occ_to_min          148465 non-null int64\n",
      "occ_on_hr_grp       148465 non-null object\n",
      "occ_on_season       148465 non-null object\n",
      "dtypes: datetime64[ns](2), int64(10), object(11)\n",
      "memory usage: 27.2+ MB\n"
     ]
    }
   ],
   "source": [
    "# Market Basket Analysis\n",
    "\n",
    "# Import mlxtend packages\n",
    "from mlxtend.frequent_patterns import apriori\n",
    "from mlxtend.preprocessing import TransactionEncoder\n",
    "from mlxtend.frequent_patterns import association_rules\n",
    "\n",
    "crime_clean.info()"
   ]
  },
  {
   "cell_type": "code",
   "execution_count": 142,
   "metadata": {},
   "outputs": [],
   "source": [
    "# Create basket list\n",
    "basket = crime_clean[['crime_cat', 'zip', 'premise_type', '100_block_addr', 'occ_on_month', 'occ_on_day', 'occ_on_year', 'occ_on_hr_grp', 'occ_on_dayofweek', 'occ_on_season']].values.tolist()\n"
   ]
  },
  {
   "cell_type": "code",
   "execution_count": 143,
   "metadata": {},
   "outputs": [
    {
     "ename": "TypeError",
     "evalue": "'<' not supported between instances of 'int' and 'str'",
     "output_type": "error",
     "traceback": [
      "\u001b[0;31m---------------------------------------------------------------------------\u001b[0m",
      "\u001b[0;31mTypeError\u001b[0m                                 Traceback (most recent call last)",
      "\u001b[0;32m<ipython-input-143-0906386aedc5>\u001b[0m in \u001b[0;36m<module>\u001b[0;34m()\u001b[0m\n\u001b[1;32m      1\u001b[0m \u001b[0;31m# one-hot encode the data and frequent items\u001b[0m\u001b[0;34m\u001b[0m\u001b[0;34m\u001b[0m\u001b[0m\n\u001b[1;32m      2\u001b[0m \u001b[0mte\u001b[0m \u001b[0;34m=\u001b[0m \u001b[0mTransactionEncoder\u001b[0m\u001b[0;34m(\u001b[0m\u001b[0;34m)\u001b[0m\u001b[0;34m\u001b[0m\u001b[0m\n\u001b[0;32m----> 3\u001b[0;31m \u001b[0mte_ary\u001b[0m \u001b[0;34m=\u001b[0m \u001b[0mte\u001b[0m\u001b[0;34m.\u001b[0m\u001b[0mfit\u001b[0m\u001b[0;34m(\u001b[0m\u001b[0mbasket\u001b[0m\u001b[0;34m)\u001b[0m\u001b[0;34m.\u001b[0m\u001b[0mtransform\u001b[0m\u001b[0;34m(\u001b[0m\u001b[0mbasket\u001b[0m\u001b[0;34m)\u001b[0m\u001b[0;34m\u001b[0m\u001b[0m\n\u001b[0m\u001b[1;32m      4\u001b[0m \u001b[0mbasket_encode\u001b[0m \u001b[0;34m=\u001b[0m \u001b[0mpd\u001b[0m\u001b[0;34m.\u001b[0m\u001b[0mDataFrame\u001b[0m\u001b[0;34m(\u001b[0m\u001b[0mte_ary\u001b[0m\u001b[0;34m,\u001b[0m \u001b[0mcolumns\u001b[0m\u001b[0;34m=\u001b[0m\u001b[0mte\u001b[0m\u001b[0;34m.\u001b[0m\u001b[0mcolumns_\u001b[0m\u001b[0;34m)\u001b[0m\u001b[0;34m\u001b[0m\u001b[0m\n\u001b[1;32m      5\u001b[0m \u001b[0mbasket_encode\u001b[0m\u001b[0;34m.\u001b[0m\u001b[0mhead\u001b[0m\u001b[0;34m(\u001b[0m\u001b[0;34m)\u001b[0m\u001b[0;34m\u001b[0m\u001b[0m\n",
      "\u001b[0;32m~/anaconda3/lib/python3.6/site-packages/mlxtend/preprocessing/transactionencoder.py\u001b[0m in \u001b[0;36mfit\u001b[0;34m(self, X)\u001b[0m\n\u001b[1;32m     51\u001b[0m             \u001b[0;32mfor\u001b[0m \u001b[0mitem\u001b[0m \u001b[0;32min\u001b[0m \u001b[0mtransaction\u001b[0m\u001b[0;34m:\u001b[0m\u001b[0;34m\u001b[0m\u001b[0m\n\u001b[1;32m     52\u001b[0m                 \u001b[0munique_items\u001b[0m\u001b[0;34m.\u001b[0m\u001b[0madd\u001b[0m\u001b[0;34m(\u001b[0m\u001b[0mitem\u001b[0m\u001b[0;34m)\u001b[0m\u001b[0;34m\u001b[0m\u001b[0m\n\u001b[0;32m---> 53\u001b[0;31m         \u001b[0mself\u001b[0m\u001b[0;34m.\u001b[0m\u001b[0mcolumns_\u001b[0m \u001b[0;34m=\u001b[0m \u001b[0msorted\u001b[0m\u001b[0;34m(\u001b[0m\u001b[0munique_items\u001b[0m\u001b[0;34m)\u001b[0m\u001b[0;34m\u001b[0m\u001b[0m\n\u001b[0m\u001b[1;32m     54\u001b[0m         \u001b[0mcolumns_mapping\u001b[0m \u001b[0;34m=\u001b[0m \u001b[0;34m{\u001b[0m\u001b[0;34m}\u001b[0m\u001b[0;34m\u001b[0m\u001b[0m\n\u001b[1;32m     55\u001b[0m         \u001b[0;32mfor\u001b[0m \u001b[0mcol_idx\u001b[0m\u001b[0;34m,\u001b[0m \u001b[0mitem\u001b[0m \u001b[0;32min\u001b[0m \u001b[0menumerate\u001b[0m\u001b[0;34m(\u001b[0m\u001b[0mself\u001b[0m\u001b[0;34m.\u001b[0m\u001b[0mcolumns_\u001b[0m\u001b[0;34m)\u001b[0m\u001b[0;34m:\u001b[0m\u001b[0;34m\u001b[0m\u001b[0m\n",
      "\u001b[0;31mTypeError\u001b[0m: '<' not supported between instances of 'int' and 'str'"
     ]
    }
   ],
   "source": [
    "# one-hot encode the data and frequent items\n",
    "te = TransactionEncoder()\n",
    "te_ary = te.fit(basket).transform(basket)\n",
    "basket_encode = pd.DataFrame(te_ary, columns=te.columns_)\n",
    "basket_encode.head()"
   ]
  },
  {
   "cell_type": "code",
   "execution_count": 122,
   "metadata": {},
   "outputs": [
    {
     "ename": "KeyboardInterrupt",
     "evalue": "",
     "output_type": "error",
     "traceback": [
      "\u001b[0;31m---------------------------------------------------------------------------\u001b[0m",
      "\u001b[0;31mKeyboardInterrupt\u001b[0m                         Traceback (most recent call last)",
      "\u001b[0;32m<ipython-input-122-f13c5db79fce>\u001b[0m in \u001b[0;36m<module>\u001b[0;34m()\u001b[0m\n\u001b[0;32m----> 1\u001b[0;31m \u001b[0mfrequent_itemsets\u001b[0m \u001b[0;34m=\u001b[0m \u001b[0mapriori\u001b[0m\u001b[0;34m(\u001b[0m\u001b[0mbasket_encode\u001b[0m\u001b[0;34m,\u001b[0m \u001b[0mmin_support\u001b[0m\u001b[0;34m=\u001b[0m\u001b[0;36m0.025\u001b[0m\u001b[0;34m,\u001b[0m \u001b[0muse_colnames\u001b[0m\u001b[0;34m=\u001b[0m\u001b[0;32mTrue\u001b[0m\u001b[0;34m)\u001b[0m\u001b[0;34m\u001b[0m\u001b[0m\n\u001b[0m\u001b[1;32m      2\u001b[0m \u001b[0mfrequent_itemsets\u001b[0m\u001b[0;34m\u001b[0m\u001b[0m\n",
      "\u001b[0;32m~/anaconda3/lib/python3.6/site-packages/mlxtend/frequent_patterns/apriori.py\u001b[0m in \u001b[0;36mapriori\u001b[0;34m(df, min_support, use_colnames, max_len)\u001b[0m\n\u001b[1;32m    101\u001b[0m \u001b[0;34m\u001b[0m\u001b[0m\n\u001b[1;32m    102\u001b[0m         \u001b[0;32mfor\u001b[0m \u001b[0mc\u001b[0m \u001b[0;32min\u001b[0m \u001b[0mcombin\u001b[0m\u001b[0;34m:\u001b[0m\u001b[0;34m\u001b[0m\u001b[0m\n\u001b[0;32m--> 103\u001b[0;31m             \u001b[0mtogether\u001b[0m \u001b[0;34m=\u001b[0m \u001b[0mX\u001b[0m\u001b[0;34m[\u001b[0m\u001b[0;34m:\u001b[0m\u001b[0;34m,\u001b[0m \u001b[0mc\u001b[0m\u001b[0;34m]\u001b[0m\u001b[0;34m.\u001b[0m\u001b[0mall\u001b[0m\u001b[0;34m(\u001b[0m\u001b[0maxis\u001b[0m\u001b[0;34m=\u001b[0m\u001b[0;36m1\u001b[0m\u001b[0;34m)\u001b[0m\u001b[0;34m\u001b[0m\u001b[0m\n\u001b[0m\u001b[1;32m    104\u001b[0m             \u001b[0msupport\u001b[0m \u001b[0;34m=\u001b[0m \u001b[0mtogether\u001b[0m\u001b[0;34m.\u001b[0m\u001b[0msum\u001b[0m\u001b[0;34m(\u001b[0m\u001b[0;34m)\u001b[0m \u001b[0;34m/\u001b[0m \u001b[0mrows_count\u001b[0m\u001b[0;34m\u001b[0m\u001b[0m\n\u001b[1;32m    105\u001b[0m             \u001b[0;32mif\u001b[0m \u001b[0msupport\u001b[0m \u001b[0;34m>=\u001b[0m \u001b[0mmin_support\u001b[0m\u001b[0;34m:\u001b[0m\u001b[0;34m\u001b[0m\u001b[0m\n",
      "\u001b[0;31mKeyboardInterrupt\u001b[0m: "
     ]
    }
   ],
   "source": [
    "frequent_itemsets = apriori(basket_encode, min_support=0.025, use_colnames=True)\n",
    "frequent_itemsets"
   ]
  },
  {
   "cell_type": "code",
   "execution_count": 109,
   "metadata": {},
   "outputs": [
    {
     "data": {
      "text/html": [
       "<div>\n",
       "<style scoped>\n",
       "    .dataframe tbody tr th:only-of-type {\n",
       "        vertical-align: middle;\n",
       "    }\n",
       "\n",
       "    .dataframe tbody tr th {\n",
       "        vertical-align: top;\n",
       "    }\n",
       "\n",
       "    .dataframe thead th {\n",
       "        text-align: right;\n",
       "    }\n",
       "</style>\n",
       "<table border=\"1\" class=\"dataframe\">\n",
       "  <thead>\n",
       "    <tr style=\"text-align: right;\">\n",
       "      <th></th>\n",
       "      <th>antecedants</th>\n",
       "      <th>consequents</th>\n",
       "      <th>antecedent support</th>\n",
       "      <th>consequent support</th>\n",
       "      <th>support</th>\n",
       "      <th>confidence</th>\n",
       "      <th>lift</th>\n",
       "      <th>leverage</th>\n",
       "      <th>conviction</th>\n",
       "    </tr>\n",
       "  </thead>\n",
       "  <tbody>\n",
       "  </tbody>\n",
       "</table>\n",
       "</div>"
      ],
      "text/plain": [
       "Empty DataFrame\n",
       "Columns: [antecedants, consequents, antecedent support, consequent support, support, confidence, lift, leverage, conviction]\n",
       "Index: []"
      ]
     },
     "execution_count": 109,
     "metadata": {},
     "output_type": "execute_result"
    }
   ],
   "source": [
    "# Confidence Metric\n",
    "rules = association_rules(frequent_itemsets, metric=\"confidence\", min_threshold=0.025)\n",
    "rules"
   ]
  },
  {
   "cell_type": "code",
   "execution_count": 16,
   "metadata": {},
   "outputs": [
    {
     "data": {
      "text/html": [
       "<div>\n",
       "<style scoped>\n",
       "    .dataframe tbody tr th:only-of-type {\n",
       "        vertical-align: middle;\n",
       "    }\n",
       "\n",
       "    .dataframe tbody tr th {\n",
       "        vertical-align: top;\n",
       "    }\n",
       "\n",
       "    .dataframe thead th {\n",
       "        text-align: right;\n",
       "    }\n",
       "</style>\n",
       "<table border=\"1\" class=\"dataframe\">\n",
       "  <thead>\n",
       "    <tr style=\"text-align: right;\">\n",
       "      <th></th>\n",
       "      <th>antecedants</th>\n",
       "      <th>consequents</th>\n",
       "      <th>antecedent support</th>\n",
       "      <th>consequent support</th>\n",
       "      <th>support</th>\n",
       "      <th>confidence</th>\n",
       "      <th>lift</th>\n",
       "      <th>leverage</th>\n",
       "      <th>conviction</th>\n",
       "    </tr>\n",
       "  </thead>\n",
       "  <tbody>\n",
       "    <tr>\n",
       "      <th>0</th>\n",
       "      <td>(APARTMENT)</td>\n",
       "      <td>(BURGLARY)</td>\n",
       "      <td>0.113246</td>\n",
       "      <td>0.177059</td>\n",
       "      <td>0.029408</td>\n",
       "      <td>0.259680</td>\n",
       "      <td>1.466633</td>\n",
       "      <td>0.009357</td>\n",
       "      <td>1.111602</td>\n",
       "    </tr>\n",
       "    <tr>\n",
       "      <th>1</th>\n",
       "      <td>(BURGLARY)</td>\n",
       "      <td>(APARTMENT)</td>\n",
       "      <td>0.177059</td>\n",
       "      <td>0.113246</td>\n",
       "      <td>0.029408</td>\n",
       "      <td>0.166090</td>\n",
       "      <td>1.466633</td>\n",
       "      <td>0.009357</td>\n",
       "      <td>1.063369</td>\n",
       "    </tr>\n",
       "    <tr>\n",
       "      <th>2</th>\n",
       "      <td>(SINGLE FAMILY HOUSE)</td>\n",
       "      <td>(BURGLARY)</td>\n",
       "      <td>0.188671</td>\n",
       "      <td>0.177059</td>\n",
       "      <td>0.092864</td>\n",
       "      <td>0.492199</td>\n",
       "      <td>2.779868</td>\n",
       "      <td>0.059458</td>\n",
       "      <td>1.620600</td>\n",
       "    </tr>\n",
       "    <tr>\n",
       "      <th>3</th>\n",
       "      <td>(BURGLARY)</td>\n",
       "      <td>(SINGLE FAMILY HOUSE)</td>\n",
       "      <td>0.177059</td>\n",
       "      <td>0.188671</td>\n",
       "      <td>0.092864</td>\n",
       "      <td>0.524480</td>\n",
       "      <td>2.779868</td>\n",
       "      <td>0.059458</td>\n",
       "      <td>1.706193</td>\n",
       "    </tr>\n",
       "    <tr>\n",
       "      <th>4</th>\n",
       "      <td>(LARCENY-THEFT)</td>\n",
       "      <td>(DEPARTMENT / DISCOUNT STORE)</td>\n",
       "      <td>0.504382</td>\n",
       "      <td>0.029785</td>\n",
       "      <td>0.027023</td>\n",
       "      <td>0.053577</td>\n",
       "      <td>1.798801</td>\n",
       "      <td>0.012000</td>\n",
       "      <td>1.025139</td>\n",
       "    </tr>\n",
       "    <tr>\n",
       "      <th>5</th>\n",
       "      <td>(DEPARTMENT / DISCOUNT STORE)</td>\n",
       "      <td>(LARCENY-THEFT)</td>\n",
       "      <td>0.029785</td>\n",
       "      <td>0.504382</td>\n",
       "      <td>0.027023</td>\n",
       "      <td>0.907282</td>\n",
       "      <td>1.798801</td>\n",
       "      <td>0.012000</td>\n",
       "      <td>5.345427</td>\n",
       "    </tr>\n",
       "    <tr>\n",
       "      <th>6</th>\n",
       "      <td>(LARCENY-THEFT)</td>\n",
       "      <td>(DRIVEWAY)</td>\n",
       "      <td>0.504382</td>\n",
       "      <td>0.035039</td>\n",
       "      <td>0.026525</td>\n",
       "      <td>0.052589</td>\n",
       "      <td>1.500881</td>\n",
       "      <td>0.008852</td>\n",
       "      <td>1.018524</td>\n",
       "    </tr>\n",
       "    <tr>\n",
       "      <th>7</th>\n",
       "      <td>(DRIVEWAY)</td>\n",
       "      <td>(LARCENY-THEFT)</td>\n",
       "      <td>0.035039</td>\n",
       "      <td>0.504382</td>\n",
       "      <td>0.026525</td>\n",
       "      <td>0.757017</td>\n",
       "      <td>1.500881</td>\n",
       "      <td>0.008852</td>\n",
       "      <td>2.039721</td>\n",
       "    </tr>\n",
       "    <tr>\n",
       "      <th>8</th>\n",
       "      <td>(GROCERY / SUPER MARKET)</td>\n",
       "      <td>(LARCENY-THEFT)</td>\n",
       "      <td>0.027508</td>\n",
       "      <td>0.504382</td>\n",
       "      <td>0.025050</td>\n",
       "      <td>0.910627</td>\n",
       "      <td>1.805433</td>\n",
       "      <td>0.011175</td>\n",
       "      <td>5.545496</td>\n",
       "    </tr>\n",
       "    <tr>\n",
       "      <th>9</th>\n",
       "      <td>(LARCENY-THEFT)</td>\n",
       "      <td>(GROCERY / SUPER MARKET)</td>\n",
       "      <td>0.504382</td>\n",
       "      <td>0.027508</td>\n",
       "      <td>0.025050</td>\n",
       "      <td>0.049664</td>\n",
       "      <td>1.805433</td>\n",
       "      <td>0.011175</td>\n",
       "      <td>1.023314</td>\n",
       "    </tr>\n",
       "    <tr>\n",
       "      <th>10</th>\n",
       "      <td>(RETAIL BUSINESS)</td>\n",
       "      <td>(LARCENY-THEFT)</td>\n",
       "      <td>0.082754</td>\n",
       "      <td>0.504382</td>\n",
       "      <td>0.071525</td>\n",
       "      <td>0.864317</td>\n",
       "      <td>1.713618</td>\n",
       "      <td>0.029786</td>\n",
       "      <td>3.652771</td>\n",
       "    </tr>\n",
       "    <tr>\n",
       "      <th>11</th>\n",
       "      <td>(LARCENY-THEFT)</td>\n",
       "      <td>(RETAIL BUSINESS)</td>\n",
       "      <td>0.504382</td>\n",
       "      <td>0.082754</td>\n",
       "      <td>0.071525</td>\n",
       "      <td>0.141808</td>\n",
       "      <td>1.713618</td>\n",
       "      <td>0.029786</td>\n",
       "      <td>1.068813</td>\n",
       "    </tr>\n",
       "    <tr>\n",
       "      <th>12</th>\n",
       "      <td>(VEHICLE)</td>\n",
       "      <td>(LARCENY-THEFT)</td>\n",
       "      <td>0.052369</td>\n",
       "      <td>0.504382</td>\n",
       "      <td>0.033119</td>\n",
       "      <td>0.632412</td>\n",
       "      <td>1.253836</td>\n",
       "      <td>0.006705</td>\n",
       "      <td>1.348297</td>\n",
       "    </tr>\n",
       "    <tr>\n",
       "      <th>13</th>\n",
       "      <td>(LARCENY-THEFT)</td>\n",
       "      <td>(VEHICLE)</td>\n",
       "      <td>0.504382</td>\n",
       "      <td>0.052369</td>\n",
       "      <td>0.033119</td>\n",
       "      <td>0.065662</td>\n",
       "      <td>1.253836</td>\n",
       "      <td>0.006705</td>\n",
       "      <td>1.014227</td>\n",
       "    </tr>\n",
       "    <tr>\n",
       "      <th>14</th>\n",
       "      <td>(MOTOR VEHICLE THEFT)</td>\n",
       "      <td>(PARKING LOT)</td>\n",
       "      <td>0.108295</td>\n",
       "      <td>0.107217</td>\n",
       "      <td>0.030398</td>\n",
       "      <td>0.280694</td>\n",
       "      <td>2.617995</td>\n",
       "      <td>0.018787</td>\n",
       "      <td>1.241173</td>\n",
       "    </tr>\n",
       "    <tr>\n",
       "      <th>15</th>\n",
       "      <td>(PARKING LOT)</td>\n",
       "      <td>(MOTOR VEHICLE THEFT)</td>\n",
       "      <td>0.107217</td>\n",
       "      <td>0.108295</td>\n",
       "      <td>0.030398</td>\n",
       "      <td>0.283516</td>\n",
       "      <td>2.617995</td>\n",
       "      <td>0.018787</td>\n",
       "      <td>1.244556</td>\n",
       "    </tr>\n",
       "  </tbody>\n",
       "</table>\n",
       "</div>"
      ],
      "text/plain": [
       "                      antecedants                    consequents  \\\n",
       "0                     (APARTMENT)                     (BURGLARY)   \n",
       "1                      (BURGLARY)                    (APARTMENT)   \n",
       "2           (SINGLE FAMILY HOUSE)                     (BURGLARY)   \n",
       "3                      (BURGLARY)          (SINGLE FAMILY HOUSE)   \n",
       "4                 (LARCENY-THEFT)  (DEPARTMENT / DISCOUNT STORE)   \n",
       "5   (DEPARTMENT / DISCOUNT STORE)                (LARCENY-THEFT)   \n",
       "6                 (LARCENY-THEFT)                     (DRIVEWAY)   \n",
       "7                      (DRIVEWAY)                (LARCENY-THEFT)   \n",
       "8        (GROCERY / SUPER MARKET)                (LARCENY-THEFT)   \n",
       "9                 (LARCENY-THEFT)       (GROCERY / SUPER MARKET)   \n",
       "10              (RETAIL BUSINESS)                (LARCENY-THEFT)   \n",
       "11                (LARCENY-THEFT)              (RETAIL BUSINESS)   \n",
       "12                      (VEHICLE)                (LARCENY-THEFT)   \n",
       "13                (LARCENY-THEFT)                      (VEHICLE)   \n",
       "14          (MOTOR VEHICLE THEFT)                  (PARKING LOT)   \n",
       "15                  (PARKING LOT)          (MOTOR VEHICLE THEFT)   \n",
       "\n",
       "    antecedent support  consequent support   support  confidence      lift  \\\n",
       "0             0.113246            0.177059  0.029408    0.259680  1.466633   \n",
       "1             0.177059            0.113246  0.029408    0.166090  1.466633   \n",
       "2             0.188671            0.177059  0.092864    0.492199  2.779868   \n",
       "3             0.177059            0.188671  0.092864    0.524480  2.779868   \n",
       "4             0.504382            0.029785  0.027023    0.053577  1.798801   \n",
       "5             0.029785            0.504382  0.027023    0.907282  1.798801   \n",
       "6             0.504382            0.035039  0.026525    0.052589  1.500881   \n",
       "7             0.035039            0.504382  0.026525    0.757017  1.500881   \n",
       "8             0.027508            0.504382  0.025050    0.910627  1.805433   \n",
       "9             0.504382            0.027508  0.025050    0.049664  1.805433   \n",
       "10            0.082754            0.504382  0.071525    0.864317  1.713618   \n",
       "11            0.504382            0.082754  0.071525    0.141808  1.713618   \n",
       "12            0.052369            0.504382  0.033119    0.632412  1.253836   \n",
       "13            0.504382            0.052369  0.033119    0.065662  1.253836   \n",
       "14            0.108295            0.107217  0.030398    0.280694  2.617995   \n",
       "15            0.107217            0.108295  0.030398    0.283516  2.617995   \n",
       "\n",
       "    leverage  conviction  \n",
       "0   0.009357    1.111602  \n",
       "1   0.009357    1.063369  \n",
       "2   0.059458    1.620600  \n",
       "3   0.059458    1.706193  \n",
       "4   0.012000    1.025139  \n",
       "5   0.012000    5.345427  \n",
       "6   0.008852    1.018524  \n",
       "7   0.008852    2.039721  \n",
       "8   0.011175    5.545496  \n",
       "9   0.011175    1.023314  \n",
       "10  0.029786    3.652771  \n",
       "11  0.029786    1.068813  \n",
       "12  0.006705    1.348297  \n",
       "13  0.006705    1.014227  \n",
       "14  0.018787    1.241173  \n",
       "15  0.018787    1.244556  "
      ]
     },
     "execution_count": 16,
     "metadata": {},
     "output_type": "execute_result"
    }
   ],
   "source": [
    "# Lift Metric\n",
    "rules_1 = association_rules(frequent_itemsets, metric=\"lift\", min_threshold=1.2)\n",
    "rules_1"
   ]
  },
  {
   "cell_type": "code",
   "execution_count": null,
   "metadata": {},
   "outputs": [],
   "source": []
  }
 ],
 "metadata": {
  "kernelspec": {
   "display_name": "Python 3",
   "language": "python",
   "name": "python3"
  },
  "language_info": {
   "codemirror_mode": {
    "name": "ipython",
    "version": 3
   },
   "file_extension": ".py",
   "mimetype": "text/x-python",
   "name": "python",
   "nbconvert_exporter": "python",
   "pygments_lexer": "ipython3",
   "version": "3.6.4"
  }
 },
 "nbformat": 4,
 "nbformat_minor": 2
}
